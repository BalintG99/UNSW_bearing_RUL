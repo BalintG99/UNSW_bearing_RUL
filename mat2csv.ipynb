{
 "cells": [
  {
   "cell_type": "markdown",
   "id": "be80fd4d",
   "metadata": {},
   "source": [
    "# Converting mat file to csv\n",
    "Reading a .mat file of the UNSW Bearing dataset, ordering the data into dataframe and saving it as .csv\n"
   ]
  },
  {
   "cell_type": "code",
   "execution_count": 1,
   "id": "7c7529b2",
   "metadata": {},
   "outputs": [],
   "source": [
    "import scipy.io as sio\n",
    "import matplotlib.pyplot as plt\n",
    "import pandas as pd\n",
    "import numpy as np"
   ]
  },
  {
   "cell_type": "code",
   "execution_count": 13,
   "id": "e1ffb0d5",
   "metadata": {},
   "outputs": [],
   "source": [
    "fileName = 'vib_000002663_06.mat'\n",
    "data = sio.loadmat(fileName)"
   ]
  },
  {
   "cell_type": "code",
   "execution_count": 14,
   "id": "0caa44b4",
   "metadata": {},
   "outputs": [
    {
     "name": "stdout",
     "output_type": "stream",
     "text": [
      "{'__header__': b'MATLAB 5.0 MAT-file, Platform: PCWIN64, Created on: Tue Nov  2 17:25:32 2021', '__version__': '1.0', '__globals__': [], 'Fs': array([[51200]], dtype=uint16), 'accH': array([[ 0.00614713],\n",
      "       [ 0.00748862],\n",
      "       [ 0.00402198],\n",
      "       ...,\n",
      "       [-0.00451951],\n",
      "       [-0.00461838],\n",
      "       [-0.00435289]]), 'accV': array([[0.01377351],\n",
      "       [0.01523379],\n",
      "       [0.02078529],\n",
      "       ...,\n",
      "       [0.00070843],\n",
      "       [0.00198214],\n",
      "       [0.00330889]]), 'enc1': array([[-0.09608715],\n",
      "       [ 3.26431537],\n",
      "       [ 3.95748353],\n",
      "       ...,\n",
      "       [ 1.42949522],\n",
      "       [ 4.70847225],\n",
      "       [ 4.43558168]]), 'enc2': array([[4.98187876],\n",
      "       [4.13087177],\n",
      "       [4.06947136],\n",
      "       ...,\n",
      "       [3.52050757],\n",
      "       [4.93674517],\n",
      "       [3.74151921]]), 'loadCell': array([[-3.6768322 ],\n",
      "       [-3.67633915],\n",
      "       [-3.67665911],\n",
      "       ...,\n",
      "       [-3.67911816],\n",
      "       [-3.67497683],\n",
      "       [-3.67364192]]), 'tacho': array([[0.00336344],\n",
      "       [0.00408758],\n",
      "       [0.00484646],\n",
      "       ...,\n",
      "       [0.00388216],\n",
      "       [0.0039803 ],\n",
      "       [0.00414731]])}\n"
     ]
    }
   ],
   "source": [
    "print(data)"
   ]
  },
  {
   "cell_type": "markdown",
   "id": "1a15a3df",
   "metadata": {},
   "source": [
    "## Data structure\n",
    "\n",
    "From the docx attached to the dataset:\n",
    "\n",
    "### File names\n",
    "Each data file is named as vib_aaaaaaaaa_bb.mat: <br>\n",
    "•\taaaaaaaaa: is the running cycle of the shaft in this measurement<br>\n",
    "•\tbb: is the shaft speed in Hz\n",
    "\n",
    "### Colums\n",
    "Each data file contains the following variables:<br>\n",
    "•\tFs: the sampling frequency<br>\n",
    "•\taccH: acceleration (V) in horizontal direction<br>\n",
    "•\taccV: acceleration (V) in vertical direction<br>\n",
    "•\tenc1: encoder signal channel 1 (1024 pulses/rev)<br>\n",
    "•\tenc2: encoder signal channel 2 (1024 pulses/rev)<br>\n",
    "•\tloadCell: the applied radial load on the test bearing<br>\n",
    "•\ttacho: tacho signal of the shaft (1/rev)"
   ]
  },
  {
   "cell_type": "code",
   "execution_count": 11,
   "id": "ee34d98a",
   "metadata": {},
   "outputs": [
    {
     "name": "stdout",
     "output_type": "stream",
     "text": [
      "            accH      accV      enc1      enc2  loadCell     tacho       Fs\n",
      "0       0.006147  0.013774 -0.096087  4.981879 -3.676832  0.003363  51200.0\n",
      "1       0.007489  0.015234  3.264315  4.130872 -3.676339  0.004088  51200.0\n",
      "2       0.004022  0.020785  3.957484  4.069471 -3.676659  0.004846  51200.0\n",
      "3       -0.00045  0.026484  4.389729  0.758216  -3.67912  0.004647  51200.0\n",
      "4      -0.003118  0.030857  5.114358 -0.143651 -3.678696  0.006372  51200.0\n",
      "...          ...       ...       ...       ...       ...       ...      ...\n",
      "614395 -0.008467  0.005719  0.281305  2.233608 -3.688011  0.004164  51200.0\n",
      "614396 -0.006246  0.005086 -0.356267  4.335676  -3.68364   0.00327  51200.0\n",
      "614397  -0.00452  0.000708  1.429495  3.520508 -3.679118  0.003882  51200.0\n",
      "614398 -0.004618  0.001982  4.708472  4.936745 -3.674977   0.00398  51200.0\n",
      "614399 -0.004353  0.003309  4.435582  3.741519 -3.673642  0.004147  51200.0\n",
      "\n",
      "[614400 rows x 7 columns]\n"
     ]
    }
   ],
   "source": [
    "# Load .mat columns into separate arrays\n",
    "accH = np.squeeze(data[\"accH\"])\n",
    "accV = np.squeeze(data[\"accV\"])\n",
    "enc1 = np.squeeze(data[\"enc1\"])\n",
    "enc2 = np.squeeze(data[\"enc2\"])\n",
    "loadCell = np.squeeze(data[\"loadCell\"])\n",
    "tacho = np.squeeze(data[\"tacho\"])\n",
    "Fs = np.full(len(accH), data[\"Fs\"])\n",
    "\n",
    "array = np.array(np.transpose([accH, accV, enc1, enc2, loadCell, tacho, Fs]), dtype=object)\n",
    "column_names = ['index', 'accH', 'accV', 'enc1', 'enc2', 'loadCell', 'tacho', 'Fs']\n",
    "\n",
    "# Build a dataframe from arrays\n",
    "df = pd.DataFrame(data = array,\n",
    "                 columns = column_names)\n",
    "print(df)"
   ]
  },
  {
   "cell_type": "code",
   "execution_count": 16,
   "id": "fb656196",
   "metadata": {},
   "outputs": [],
   "source": [
    "df.to_csv(fileName.removesuffix('.mat') + '.csv')"
   ]
  }
 ],
 "metadata": {
  "kernelspec": {
   "display_name": "Python 3 (ipykernel)",
   "language": "python",
   "name": "python3"
  },
  "language_info": {
   "codemirror_mode": {
    "name": "ipython",
    "version": 3
   },
   "file_extension": ".py",
   "mimetype": "text/x-python",
   "name": "python",
   "nbconvert_exporter": "python",
   "pygments_lexer": "ipython3",
   "version": "3.11.4"
  }
 },
 "nbformat": 4,
 "nbformat_minor": 5
}
